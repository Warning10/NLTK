{
 "cells": [
  {
   "cell_type": "code",
   "execution_count": 1,
   "id": "3f585bbe",
   "metadata": {},
   "outputs": [],
   "source": [
    "import nltk\n",
    "from nltk.tokenize import word_tokenize\n",
    "from nltk.tag import pos_tag\n",
    "from nltk.stem import WordNetLemmatizer"
   ]
  },
  {
   "cell_type": "code",
   "execution_count": 2,
   "id": "05742bd0",
   "metadata": {},
   "outputs": [
    {
     "name": "stdout",
     "output_type": "stream",
     "text": [
      "showing info https://raw.githubusercontent.com/nltk/nltk_data/gh-pages/index.xml\n"
     ]
    },
    {
     "data": {
      "text/plain": [
       "True"
      ]
     },
     "execution_count": 2,
     "metadata": {},
     "output_type": "execute_result"
    }
   ],
   "source": [
    "nltk.download()\n"
   ]
  },
  {
   "cell_type": "code",
   "execution_count": 3,
   "id": "ceeab9ca",
   "metadata": {},
   "outputs": [],
   "source": [
    "text = ' '"
   ]
  },
  {
   "cell_type": "code",
   "execution_count": 4,
   "id": "becbc9d8",
   "metadata": {},
   "outputs": [
    {
     "name": "stdout",
     "output_type": "stream",
     "text": [
      "Token:  ['Hello', ',', 'My', 'name', 'is', 'Atharva', 'Thakkar', 'and', 'I', 'am', 'performning', 'DSBDA', 'lab', 'practical', '.']\n"
     ]
    }
   ],
   "source": [
    "token = word_tokenize(text)\n",
    "print(\"Token: \", token)"
   ]
  },
  {
   "cell_type": "code",
   "execution_count": 5,
   "id": "2c3150e8",
   "metadata": {},
   "outputs": [
    {
     "name": "stdout",
     "output_type": "stream",
     "text": [
      "POS Tags: [('Hello', 'NNP'), (',', ','), ('My', 'NNP'), ('name', 'NN'), ('is', 'VBZ'), ('Atharva', 'NNP'), ('Thakkar', 'NNP'), ('and', 'CC'), ('I', 'PRP'), ('am', 'VBP'), ('performning', 'VBG'), ('DSBDA', 'NNP'), ('lab', 'NN'), ('practical', 'NN'), ('.', '.')]\n"
     ]
    }
   ],
   "source": [
    "pos_tags = pos_tag(token)\n",
    "print(\"POS Tags:\", pos_tags)"
   ]
  },
  {
   "cell_type": "code",
   "execution_count": 6,
   "id": "5237dd0b",
   "metadata": {},
   "outputs": [
    {
     "name": "stdout",
     "output_type": "stream",
     "text": [
      "Lemmatized Text:  ['Hello', ',', 'My', 'name', 'be', 'Atharva', 'Thakkar', 'and', 'I', 'be', 'performning', 'DSBDA', 'lab', 'practical', '.']\n"
     ]
    }
   ],
   "source": [
    "lemmatizer = WordNetLemmatizer()\n",
    "lemmatized_text = [lemmatizer.lemmatize(word, pos=tag[0].lower()) if tag[0].lower() in ['a', 'n', 'v'] else lemmatizer.lemmatize(word) for word, tag in pos_tags]\n",
    "print(\"Lemmatized Text: \", lemmatized_text)"
   ]
  },
  {
   "cell_type": "code",
   "execution_count": null,
   "id": "c354bdce",
   "metadata": {},
   "outputs": [],
   "source": []
  }
 ],
 "metadata": {
  "kernelspec": {
   "display_name": "Python 3 (ipykernel)",
   "language": "python",
   "name": "python3"
  },
  "language_info": {
   "codemirror_mode": {
    "name": "ipython",
    "version": 3
   },
   "file_extension": ".py",
   "mimetype": "text/x-python",
   "name": "python",
   "nbconvert_exporter": "python",
   "pygments_lexer": "ipython3",
   "version": "3.10.9"
  }
 },
 "nbformat": 4,
 "nbformat_minor": 5
}
