{
 "cells": [
  {
   "cell_type": "code",
   "execution_count": 8,
   "id": "ea8329b1",
   "metadata": {},
   "outputs": [
    {
     "name": "stdout",
     "output_type": "stream",
     "text": [
      "Requirement already satisfied: scikit-learn in d:\\jupter\\lib\\site-packages (1.2.1)\n",
      "Requirement already satisfied: threadpoolctl>=2.0.0 in d:\\jupter\\lib\\site-packages (from scikit-learn) (2.2.0)\n",
      "Requirement already satisfied: numpy>=1.17.3 in d:\\jupter\\lib\\site-packages (from scikit-learn) (1.23.5)\n",
      "Requirement already satisfied: scipy>=1.3.2 in d:\\jupter\\lib\\site-packages (from scikit-learn) (1.10.0)\n",
      "Requirement already satisfied: joblib>=1.1.1 in d:\\jupter\\lib\\site-packages (from scikit-learn) (1.1.1)\n"
     ]
    }
   ],
   "source": [
    "!pip install scikit-learn\n",
    "from sklearn.feature_extraction.text import TfidfVectorizer\n"
   ]
  },
  {
   "cell_type": "code",
   "execution_count": 10,
   "id": "72092b2a",
   "metadata": {},
   "outputs": [],
   "source": [
    "# List of sentences (documents)\n",
    "documents = [\n",
    "    \"This is the first document.\",\n",
    "    \"This document is the second document.\",\n",
    "    \"And this is the third one.\",\n",
    "    \"Is this the first document?\"\n",
    "]"
   ]
  },
  {
   "cell_type": "code",
   "execution_count": 11,
   "id": "0252fb16",
   "metadata": {},
   "outputs": [],
   "source": [
    "# Initialize the TF-IDF vectorizer\n",
    "vectorizer = TfidfVectorizer()"
   ]
  },
  {
   "cell_type": "code",
   "execution_count": 12,
   "id": "47585119",
   "metadata": {},
   "outputs": [],
   "source": [
    "# Compute TF-IDF values\n",
    "tfidf_matrix = vectorizer.fit_transform(documents)"
   ]
  },
  {
   "cell_type": "code",
   "execution_count": 14,
   "id": "c3a7d5eb",
   "metadata": {},
   "outputs": [],
   "source": [
    "# Get the feature names (terms)\n",
    "feature_names = vectorizer.get_feature_names_out()\n"
   ]
  },
  {
   "cell_type": "code",
   "execution_count": 15,
   "id": "39ec729b",
   "metadata": {},
   "outputs": [
    {
     "name": "stdout",
     "output_type": "stream",
     "text": [
      "Document 1: This is the first document.\n",
      "    document: 0.46979138557992045\n",
      "    first: 0.5802858236844359\n",
      "    is: 0.38408524091481483\n",
      "    the: 0.38408524091481483\n",
      "    this: 0.38408524091481483\n",
      "Document 2: This document is the second document.\n",
      "    document: 0.6876235979836938\n",
      "    is: 0.281088674033753\n",
      "    second: 0.5386476208856763\n",
      "    the: 0.281088674033753\n",
      "    this: 0.281088674033753\n",
      "Document 3: And this is the third one.\n",
      "    and: 0.511848512707169\n",
      "    is: 0.267103787642168\n",
      "    one: 0.511848512707169\n",
      "    the: 0.267103787642168\n",
      "    third: 0.511848512707169\n",
      "    this: 0.267103787642168\n",
      "Document 4: Is this the first document?\n",
      "    document: 0.46979138557992045\n",
      "    first: 0.5802858236844359\n",
      "    is: 0.38408524091481483\n",
      "    the: 0.38408524091481483\n",
      "    this: 0.38408524091481483\n"
     ]
    }
   ],
   "source": [
    "# Print TF-IDF values for each sentence\n",
    "for i, doc in enumerate(documents):\n",
    "    print(f\"Document {i+1}: {doc}\")\n",
    "    for j, term in enumerate(feature_names):\n",
    "        tfidf_value = tfidf_matrix[i, j]\n",
    "        if tfidf_value > 0:\n",
    "            print(f\"    {term}: {tfidf_value}\")"
   ]
  },
  {
   "cell_type": "code",
   "execution_count": null,
   "id": "0bbbb2b0",
   "metadata": {},
   "outputs": [],
   "source": []
  }
 ],
 "metadata": {
  "kernelspec": {
   "display_name": "Python 3 (ipykernel)",
   "language": "python",
   "name": "python3"
  },
  "language_info": {
   "codemirror_mode": {
    "name": "ipython",
    "version": 3
   },
   "file_extension": ".py",
   "mimetype": "text/x-python",
   "name": "python",
   "nbconvert_exporter": "python",
   "pygments_lexer": "ipython3",
   "version": "3.10.9"
  }
 },
 "nbformat": 4,
 "nbformat_minor": 5
}
